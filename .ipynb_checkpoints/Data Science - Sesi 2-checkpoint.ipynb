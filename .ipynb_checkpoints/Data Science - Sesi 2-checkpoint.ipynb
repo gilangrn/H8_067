{
 "cells": [
  {
   "cell_type": "markdown",
   "id": "6d0a93ae",
   "metadata": {},
   "source": [
    "# Condition"
   ]
  },
  {
   "cell_type": "code",
   "execution_count": 1,
   "id": "7b73864c",
   "metadata": {},
   "outputs": [
    {
     "ename": "SyntaxError",
     "evalue": "invalid syntax (<ipython-input-1-60b193479348>, line 1)",
     "output_type": "error",
     "traceback": [
      "\u001b[0;36m  File \u001b[0;32m\"<ipython-input-1-60b193479348>\"\u001b[0;36m, line \u001b[0;32m1\u001b[0m\n\u001b[0;31m    ==\u001b[0m\n\u001b[0m    ^\u001b[0m\n\u001b[0;31mSyntaxError\u001b[0m\u001b[0;31m:\u001b[0m invalid syntax\n"
     ]
    }
   ],
   "source": [
    "==\n",
    "!=\n",
    "<\n",
    ">\n",
    "<=\n",
    ">="
   ]
  },
  {
   "cell_type": "code",
   "execution_count": null,
   "id": "fe9e84fb",
   "metadata": {},
   "outputs": [],
   "source": [
    "cuaca = 'cerah'\n",
    "\n",
    "if cuaca == 'cerah':\n",
    "    print('Pergi keluar')\n",
    "else:\n",
    "    print('Dirumah aja')"
   ]
  },
  {
   "cell_type": "code",
   "execution_count": 2,
   "id": "928c617d",
   "metadata": {},
   "outputs": [
    {
     "name": "stdout",
     "output_type": "stream",
     "text": [
      "lebih nih\n",
      "diluar statement\n"
     ]
    }
   ],
   "source": [
    "x = 5\n",
    "y = 0\n",
    "\n",
    "if x >= 1:\n",
    "    print('lebih nih')\n",
    "    if y >= 1:\n",
    "        print('lebih nih')\n",
    "        \n",
    "print('diluar statement')"
   ]
  },
  {
   "cell_type": "code",
   "execution_count": 3,
   "id": "5ba4c5a9",
   "metadata": {},
   "outputs": [
    {
     "name": "stdout",
     "output_type": "stream",
     "text": [
      "lebih dari 5\n"
     ]
    }
   ],
   "source": [
    "x = 6\n",
    "\n",
    "if x > 5:\n",
    "    print('lebih dari 5')\n",
    "elif x < 5:\n",
    "    print('kurang dari 5')\n",
    "else:\n",
    "    print('sama dengan 5')"
   ]
  },
  {
   "cell_type": "code",
   "execution_count": 4,
   "id": "9abaadc5",
   "metadata": {},
   "outputs": [
    {
     "name": "stdout",
     "output_type": "stream",
     "text": [
      "kebeli buku\n",
      "kaga ada uang\n",
      "--------------\n",
      "sisa uang\n",
      "2000\n"
     ]
    }
   ],
   "source": [
    "uang = 10000\n",
    "buku = 8000\n",
    "pulpen = 4000\n",
    "\n",
    "if buku <= uang:\n",
    "    print('kebeli buku')\n",
    "    uang = uang - buku\n",
    "\n",
    "if pulpen <= uang:\n",
    "    print('kebeli pulpen')\n",
    "    uang = uang - pulpen\n",
    "\n",
    "else:\n",
    "    print('kaga ada uang')\n",
    "    print('--------------')\n",
    "    print('sisa uang')\n",
    "    print(uang)"
   ]
  },
  {
   "cell_type": "code",
   "execution_count": 5,
   "id": "776de1cb",
   "metadata": {},
   "outputs": [
    {
     "name": "stdout",
     "output_type": "stream",
     "text": [
      "salah\n"
     ]
    }
   ],
   "source": [
    "a = 1\n",
    "b = 2\n",
    "c = 3\n",
    "y = 50\n",
    "\n",
    "x = a+b*c if y == 10 else 'salah'\n",
    "print(x)"
   ]
  },
  {
   "cell_type": "code",
   "execution_count": 6,
   "id": "5761f9f9",
   "metadata": {},
   "outputs": [
    {
     "name": "stdout",
     "output_type": "stream",
     "text": [
      "gaskeun penginapan\n"
     ]
    }
   ],
   "source": [
    "hujan = True\n",
    "\n",
    "print('gaskeun', 'pantai' if not hujan else 'penginapan')"
   ]
  },
  {
   "cell_type": "markdown",
   "id": "e37256de",
   "metadata": {},
   "source": [
    "# Pass Statement"
   ]
  },
  {
   "cell_type": "code",
   "execution_count": 7,
   "id": "3e6c0ea8",
   "metadata": {},
   "outputs": [
    {
     "name": "stdout",
     "output_type": "stream",
     "text": [
      "belum tau result mau gimana, harus dikasih pass\n"
     ]
    }
   ],
   "source": [
    "if True:\n",
    "    pass\n",
    "print('belum tau result mau gimana, harus dikasih pass')"
   ]
  },
  {
   "cell_type": "markdown",
   "id": "cae942e8",
   "metadata": {},
   "source": [
    "# Looping / Perulangan / Iterasi"
   ]
  },
  {
   "cell_type": "markdown",
   "id": "6fc4f8c8",
   "metadata": {},
   "source": [
    "## While"
   ]
  },
  {
   "cell_type": "code",
   "execution_count": 8,
   "id": "6442686f",
   "metadata": {},
   "outputs": [
    {
     "name": "stdout",
     "output_type": "stream",
     "text": [
      "jajan gorengan 20000\n",
      "jajan gorengan 20000\n",
      "jajan gorengan 20000\n",
      "jajan gorengan 20000\n",
      "sisa uang 20000 saya jajan gorengan harga 20000 4 kali.\n",
      "yang saya tabung 20000\n"
     ]
    }
   ],
   "source": [
    "saldo = 100000\n",
    "tabung = 20000\n",
    "belanja = 0\n",
    "\n",
    "while saldo > tabung:\n",
    "    print('jajan gorengan 20000')\n",
    "    saldo = saldo - 20000\n",
    "    belanja += 1\n",
    "print('sisa uang', saldo, 'saya jajan gorengan harga 20000', belanja, 'kali.')\n",
    "print('yang saya tabung', tabung)"
   ]
  },
  {
   "cell_type": "markdown",
   "id": "cf4c2670",
   "metadata": {},
   "source": [
    "#### Break"
   ]
  },
  {
   "cell_type": "code",
   "execution_count": 9,
   "id": "09fd2d09",
   "metadata": {},
   "outputs": [
    {
     "name": "stdout",
     "output_type": "stream",
     "text": [
      "10\n",
      "9\n",
      "8\n",
      "7\n",
      "6\n",
      "5\n",
      "4\n",
      "3\n"
     ]
    }
   ],
   "source": [
    "n = 10\n",
    "\n",
    "while n > 0:\n",
    "    print(n)\n",
    "    n -= 1\n",
    "    if n == 2:\n",
    "        break"
   ]
  },
  {
   "cell_type": "markdown",
   "id": "2c575023",
   "metadata": {},
   "source": [
    "#### Continue"
   ]
  },
  {
   "cell_type": "code",
   "execution_count": 10,
   "id": "41903271",
   "metadata": {},
   "outputs": [
    {
     "name": "stdout",
     "output_type": "stream",
     "text": [
      "10\n",
      "9\n",
      "8\n",
      "7\n",
      "6\n",
      "5\n",
      "4\n",
      "3\n",
      "2\n",
      "1\n"
     ]
    }
   ],
   "source": [
    "n = 10\n",
    "\n",
    "while n > 0:\n",
    "    print(n)\n",
    "    n -= 1\n",
    "    if n == 2:\n",
    "        continue"
   ]
  },
  {
   "cell_type": "markdown",
   "id": "93de97c9",
   "metadata": {},
   "source": [
    "#### Else Clause"
   ]
  },
  {
   "cell_type": "code",
   "execution_count": 11,
   "id": "a3f9c231",
   "metadata": {},
   "outputs": [
    {
     "name": "stdout",
     "output_type": "stream",
     "text": [
      "10\n",
      "9\n",
      "8\n",
      "7\n",
      "6\n",
      "5\n",
      "4\n",
      "3\n",
      "2\n",
      "1\n",
      "Looping selesai\n"
     ]
    }
   ],
   "source": [
    "n = 10\n",
    "\n",
    "while n > 0:\n",
    "    print(n)\n",
    "    n -= 1\n",
    "else:\n",
    "    print('Looping selesai')"
   ]
  },
  {
   "cell_type": "markdown",
   "id": "e0251280",
   "metadata": {},
   "source": [
    "#### Nested While"
   ]
  },
  {
   "cell_type": "code",
   "execution_count": 12,
   "id": "75d0155d",
   "metadata": {},
   "outputs": [
    {
     "name": "stdout",
     "output_type": "stream",
     "text": [
      "foo\n",
      "> baz\n",
      "> qux\n",
      "bar\n",
      "> baz\n",
      "> qux\n"
     ]
    }
   ],
   "source": [
    "a = ['foo', 'bar']\n",
    "\n",
    "while len(a):\n",
    "    print(a.pop(0))\n",
    "    \n",
    "    b = ['baz', 'qux']\n",
    "    \n",
    "    while len(b):\n",
    "        print('>', b.pop(0))"
   ]
  },
  {
   "cell_type": "markdown",
   "id": "da0a668d",
   "metadata": {},
   "source": [
    "#### Input"
   ]
  },
  {
   "cell_type": "code",
   "execution_count": 13,
   "id": "d184064b",
   "metadata": {},
   "outputs": [
    {
     "name": "stdout",
     "output_type": "stream",
     "text": [
      "Stop? yes\n",
      "yes\n"
     ]
    }
   ],
   "source": [
    "while True:\n",
    "    msg = input('Stop? ')\n",
    "    print(msg)\n",
    "    if msg == 'yes':\n",
    "        break"
   ]
  },
  {
   "cell_type": "markdown",
   "id": "98ef8074",
   "metadata": {},
   "source": [
    "## For"
   ]
  },
  {
   "cell_type": "code",
   "execution_count": 14,
   "id": "283ba050",
   "metadata": {},
   "outputs": [
    {
     "name": "stdout",
     "output_type": "stream",
     "text": [
      "No 1\n",
      "No 2\n",
      "No 3\n",
      "No 4\n",
      "No 5\n",
      "No 6\n",
      "No 7\n",
      "No 8\n"
     ]
    }
   ],
   "source": [
    "list = [1,2,3,4,5,6,7,8]\n",
    "\n",
    "for i in list:\n",
    "    print('No',list[i-1])"
   ]
  },
  {
   "cell_type": "code",
   "execution_count": 15,
   "id": "8bd7673e",
   "metadata": {},
   "outputs": [
    {
     "name": "stdout",
     "output_type": "stream",
     "text": [
      "Nasi Goreng\n",
      "Bahan:\n",
      ">  Nasi\n",
      ">  Garam\n",
      ">  Bawang\n",
      ">  Kecap\n",
      "------------------\n",
      "Ayam Bakar\n",
      "Bahan:\n",
      ">  Ayam\n",
      ">  Micin\n",
      ">  Bawang\n",
      ">  Saos\n",
      "------------------\n",
      "Kopi\n",
      "Bahan:\n",
      ">  Kopi\n",
      ">  Gula\n",
      ">  Susu\n",
      "------------------\n"
     ]
    }
   ],
   "source": [
    "resep = [\n",
    "    {\n",
    "        'nama': 'Nasi Goreng',\n",
    "        'cara': 'Digoreng',\n",
    "        'bahan': ['Nasi', 'Garam', 'Bawang', 'Kecap']\n",
    "    },\n",
    "    {\n",
    "        'nama': 'Ayam Bakar',\n",
    "        'cara': 'Dibakar',\n",
    "        'bahan': ['Ayam', 'Micin', 'Bawang', 'Saos']\n",
    "    },\n",
    "    {\n",
    "        'nama': 'Kopi',\n",
    "        'cara': 'Diseduh',\n",
    "        'bahan': ['Kopi', 'Gula', 'Susu']\n",
    "    },\n",
    "]\n",
    "\n",
    "\n",
    "for item in resep:\n",
    "    print(item['nama'])\n",
    "    print('Bahan:')\n",
    "    for bahan in item['bahan']:\n",
    "        print('> ', bahan)\n",
    "    print('------------------')"
   ]
  },
  {
   "cell_type": "code",
   "execution_count": 18,
   "id": "86118e59",
   "metadata": {},
   "outputs": [
    {
     "name": "stdout",
     "output_type": "stream",
     "text": [
      "Nasi Goreng\n",
      " Bahan:\n",
      "  >  Nasi\n",
      "  >  Garam\n",
      "  >  Bawang\n",
      "  >  Kecap\n",
      "------------------\n",
      "Ayam Bakar\n",
      " Bahan:\n",
      "  > Sudah Expired\n",
      "------------------\n",
      "Kopi\n",
      " Bahan:\n",
      "  >  Kopi\n",
      "  >  Gula\n",
      "  >  Susu\n",
      "------------------\n"
     ]
    }
   ],
   "source": [
    "resep = [\n",
    "    {\n",
    "        'nama': 'Nasi Goreng',\n",
    "        'cara': 'Digoreng',\n",
    "        'exp': 2021,\n",
    "        'bahan': ['Nasi', 'Garam', 'Bawang', 'Kecap']\n",
    "    },\n",
    "    {\n",
    "        'nama': 'Ayam Bakar',\n",
    "        'cara': 'Dibakar',\n",
    "        'exp': 2020,\n",
    "        'bahan': ['Ayam', 'Micin', 'Bawang', 'Saos']\n",
    "    },\n",
    "    {\n",
    "        'nama': 'Kopi',\n",
    "        'cara': 'Diseduh',\n",
    "        'exp': 2022,\n",
    "        'bahan': ['Kopi', 'Gula', 'Susu']\n",
    "    },\n",
    "]\n",
    "\n",
    "\n",
    "for item in resep:\n",
    "    if item['exp'] >= 2021:\n",
    "        print(item['nama'])\n",
    "        print(' Bahan:')\n",
    "        for bahan in item['bahan']:\n",
    "            print('  > ', bahan)\n",
    "        print('------------------')\n",
    "    else:\n",
    "        print(item['nama'])\n",
    "        print(' Bahan:')\n",
    "        print('  > Sudah Expired')\n",
    "        print('------------------')"
   ]
  },
  {
   "cell_type": "code",
   "execution_count": null,
   "id": "de31b2fa",
   "metadata": {},
   "outputs": [],
   "source": []
  }
 ],
 "metadata": {
  "kernelspec": {
   "display_name": "Python 3",
   "language": "python",
   "name": "python3"
  },
  "language_info": {
   "codemirror_mode": {
    "name": "ipython",
    "version": 3
   },
   "file_extension": ".py",
   "mimetype": "text/x-python",
   "name": "python",
   "nbconvert_exporter": "python",
   "pygments_lexer": "ipython3",
   "version": "3.8.8"
  }
 },
 "nbformat": 4,
 "nbformat_minor": 5
}
