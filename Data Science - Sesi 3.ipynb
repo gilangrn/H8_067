{
 "cells": [
  {
   "cell_type": "markdown",
   "id": "008d0dfb",
   "metadata": {},
   "source": [
    "# Function, Module dan Package"
   ]
  },
  {
   "cell_type": "markdown",
   "id": "df83390b",
   "metadata": {},
   "source": [
    "## Function"
   ]
  },
  {
   "cell_type": "code",
   "execution_count": 5,
   "id": "501943ed",
   "metadata": {},
   "outputs": [],
   "source": [
    "def function_name(param):\n",
    "    \"docstring\"\n",
    "    statement(s)"
   ]
  },
  {
   "cell_type": "code",
   "execution_count": 7,
   "id": "f1e98dd7",
   "metadata": {},
   "outputs": [],
   "source": [
    "def my_function(p, l):\n",
    "    \"Function untuk menghitung luas\"\n",
    "    print(p*l)"
   ]
  },
  {
   "cell_type": "code",
   "execution_count": 9,
   "id": "e1c2ba35",
   "metadata": {},
   "outputs": [
    {
     "name": "stdout",
     "output_type": "stream",
     "text": [
      "8\n"
     ]
    }
   ],
   "source": [
    "my_function(2,4)"
   ]
  },
  {
   "cell_type": "code",
   "execution_count": 11,
   "id": "7f1b652e",
   "metadata": {},
   "outputs": [
    {
     "name": "stdout",
     "output_type": "stream",
     "text": [
      "ngeprint pertama\n",
      "ngeprint kedua\n"
     ]
    }
   ],
   "source": [
    "def printme(str):\n",
    "    \"This prints a passed string into this function\"\n",
    "    print(str)\n",
    "    return;\n",
    "\n",
    "printme(\"ngeprint pertama\")\n",
    "printme(\"ngeprint kedua\")"
   ]
  },
  {
   "cell_type": "code",
   "execution_count": 12,
   "id": "8b917a80",
   "metadata": {},
   "outputs": [],
   "source": [
    "def hitung_luas(p, l):\n",
    "    result = p * l\n",
    "    return result"
   ]
  },
  {
   "cell_type": "code",
   "execution_count": 14,
   "id": "c052c826",
   "metadata": {},
   "outputs": [
    {
     "name": "stdout",
     "output_type": "stream",
     "text": [
      "200\n"
     ]
    }
   ],
   "source": [
    "luas = hitung_luas(10, 20)\n",
    "\n",
    "print(luas)"
   ]
  },
  {
   "cell_type": "code",
   "execution_count": 18,
   "id": "e009e03d",
   "metadata": {},
   "outputs": [
    {
     "name": "stdout",
     "output_type": "stream",
     "text": [
      "sebelum pake func : \n",
      "[1, 2, 3]\n",
      "setelah pake func : \n",
      "[1, 2, 3, 'A', 'B', 'C']\n"
     ]
    }
   ],
   "source": [
    "def edit_list(mylist):\n",
    "    \"contoh list\"\n",
    "    mylist.extend(['A', 'B', 'C'])\n",
    "    return\n",
    "    \n",
    "mylist = [1, 2, 3]\n",
    "\n",
    "print('sebelum pake func : ')\n",
    "print(mylist)\n",
    "\n",
    "print('setelah pake func : ')\n",
    "edit_list(mylist)\n",
    "print(mylist)"
   ]
  },
  {
   "cell_type": "code",
   "execution_count": 20,
   "id": "36d8c931",
   "metadata": {},
   "outputs": [
    {
     "ename": "TypeError",
     "evalue": "require_function() missing 1 required positional argument: 'c'",
     "output_type": "error",
     "traceback": [
      "\u001b[0;31m---------------------------------------------------------------------------\u001b[0m",
      "\u001b[0;31mTypeError\u001b[0m                                 Traceback (most recent call last)",
      "\u001b[0;32m<ipython-input-20-18ad83a5f326>\u001b[0m in \u001b[0;36m<module>\u001b[0;34m\u001b[0m\n\u001b[1;32m      3\u001b[0m     \u001b[0;32mreturn\u001b[0m\u001b[0;34m\u001b[0m\u001b[0;34m\u001b[0m\u001b[0m\n\u001b[1;32m      4\u001b[0m \u001b[0;34m\u001b[0m\u001b[0m\n\u001b[0;32m----> 5\u001b[0;31m \u001b[0mrequire_function\u001b[0m\u001b[0;34m(\u001b[0m\u001b[0;34m\"A\"\u001b[0m\u001b[0;34m,\u001b[0m \u001b[0;36m2\u001b[0m\u001b[0;34m)\u001b[0m\u001b[0;34m\u001b[0m\u001b[0;34m\u001b[0m\u001b[0m\n\u001b[0m",
      "\u001b[0;31mTypeError\u001b[0m: require_function() missing 1 required positional argument: 'c'"
     ]
    }
   ],
   "source": [
    "def require_function(a, b, c):\n",
    "    print(a, b, c)\n",
    "    return\n",
    "\n",
    "require_function(\"A\", 2)"
   ]
  },
  {
   "cell_type": "code",
   "execution_count": 22,
   "id": "edb5dd2c",
   "metadata": {},
   "outputs": [
    {
     "name": "stdout",
     "output_type": "stream",
     "text": [
      "Nama :  Gilang\n",
      "Umur :  23\n"
     ]
    }
   ],
   "source": [
    "def data_diri(name, age):\n",
    "    print(\"Nama : \", name)\n",
    "    print(\"Umur : \", age)\n",
    "    return\n",
    "\n",
    "data_diri(name='Gilang', age='23')"
   ]
  },
  {
   "cell_type": "code",
   "execution_count": 24,
   "id": "1d3072a2",
   "metadata": {},
   "outputs": [
    {
     "name": "stdout",
     "output_type": "stream",
     "text": [
      "Output is  1\n",
      "(2, 3, 4, 5)\n"
     ]
    }
   ],
   "source": [
    "def func_vartuple(A, *vartuple):\n",
    "    print('Output is ', A)\n",
    "    print(vartuple)\n",
    "    \n",
    "func_vartuple(1, 2, 3, 4, 5)"
   ]
  },
  {
   "cell_type": "code",
   "execution_count": 26,
   "id": "924780d3",
   "metadata": {},
   "outputs": [
    {
     "name": "stdout",
     "output_type": "stream",
     "text": [
      "Value total :  200\n"
     ]
    }
   ],
   "source": [
    "sum = lambda arg1, arg2: arg1 * arg2\n",
    "\n",
    "print(\"Value total : \", sum(10, 20))"
   ]
  },
  {
   "cell_type": "code",
   "execution_count": 30,
   "id": "e9b161bf",
   "metadata": {},
   "outputs": [
    {
     "name": "stdout",
     "output_type": "stream",
     "text": [
      "50\n",
      "40\n"
     ]
    }
   ],
   "source": [
    "jumlahKucing = 20\n",
    "\n",
    "def jumlahHewan():\n",
    "    jumlahAnjing = 30\n",
    "    return jumlahKucing + jumlahAnjing\n",
    "\n",
    "def jumlahKelinci():\n",
    "    return jumlahKucing + jumlahKucing\n",
    "\n",
    "print(jumlahHewan())\n",
    "print(jumlahKelinci())"
   ]
  },
  {
   "cell_type": "code",
   "execution_count": 41,
   "id": "30d9224d",
   "metadata": {},
   "outputs": [
    {
     "name": "stdout",
     "output_type": "stream",
     "text": [
      "Dalam test 1\n",
      "test 6\n"
     ]
    }
   ],
   "source": [
    "def test(x, y, z):\n",
    "    def dalam_test(x):\n",
    "        print(\"Dalam test\", x)\n",
    "            \n",
    "    dalam_test(x)\n",
    "    print('test', x+y+z)\n",
    "        \n",
    "        \n",
    "test(1, 2, 3)"
   ]
  },
  {
   "cell_type": "code",
   "execution_count": 47,
   "id": "dd80b1f5",
   "metadata": {},
   "outputs": [
    {
     "name": "stdout",
     "output_type": "stream",
     "text": [
      "Gilang Romadhon Nurohman\n",
      "-------\n",
      "arg = ['A', 'B', 'C']\n",
      "-------\n"
     ]
    }
   ],
   "source": [
    "import mod\n",
    "\n",
    "print(mod.s)\n",
    "mod.a\n",
    "print('-------')\n",
    "mod.foo(['A', 'B', 'C'])\n",
    "print('-------')\n"
   ]
  },
  {
   "cell_type": "code",
   "execution_count": 51,
   "id": "93daa9f7",
   "metadata": {},
   "outputs": [
    {
     "name": "stdout",
     "output_type": "stream",
     "text": [
      "Gagal\n",
      "Memulai\n"
     ]
    }
   ],
   "source": [
    "try:\n",
    "    x = \"1\"\n",
    "    print(10+x)\n",
    "except:\n",
    "    print('Gagal')\n",
    "    \n",
    "print('Memulai')"
   ]
  },
  {
   "cell_type": "code",
   "execution_count": 55,
   "id": "7b625296",
   "metadata": {},
   "outputs": [
    {
     "data": {
      "text/plain": [
       "['ABC',\n",
       " 'In',\n",
       " 'Out',\n",
       " '_',\n",
       " '_28',\n",
       " '_32',\n",
       " '_33',\n",
       " '_43',\n",
       " '_44',\n",
       " '__',\n",
       " '___',\n",
       " '__builtin__',\n",
       " '__builtins__',\n",
       " '__doc__',\n",
       " '__loader__',\n",
       " '__name__',\n",
       " '__package__',\n",
       " '__spec__',\n",
       " '_dh',\n",
       " '_i',\n",
       " '_i1',\n",
       " '_i10',\n",
       " '_i11',\n",
       " '_i12',\n",
       " '_i13',\n",
       " '_i14',\n",
       " '_i15',\n",
       " '_i16',\n",
       " '_i17',\n",
       " '_i18',\n",
       " '_i19',\n",
       " '_i2',\n",
       " '_i20',\n",
       " '_i21',\n",
       " '_i22',\n",
       " '_i23',\n",
       " '_i24',\n",
       " '_i25',\n",
       " '_i26',\n",
       " '_i27',\n",
       " '_i28',\n",
       " '_i29',\n",
       " '_i3',\n",
       " '_i30',\n",
       " '_i31',\n",
       " '_i32',\n",
       " '_i33',\n",
       " '_i34',\n",
       " '_i35',\n",
       " '_i36',\n",
       " '_i37',\n",
       " '_i38',\n",
       " '_i39',\n",
       " '_i4',\n",
       " '_i40',\n",
       " '_i41',\n",
       " '_i42',\n",
       " '_i43',\n",
       " '_i44',\n",
       " '_i45',\n",
       " '_i46',\n",
       " '_i47',\n",
       " '_i48',\n",
       " '_i49',\n",
       " '_i5',\n",
       " '_i50',\n",
       " '_i51',\n",
       " '_i52',\n",
       " '_i53',\n",
       " '_i54',\n",
       " '_i55',\n",
       " '_i6',\n",
       " '_i7',\n",
       " '_i8',\n",
       " '_i9',\n",
       " '_ih',\n",
       " '_ii',\n",
       " '_iii',\n",
       " '_oh',\n",
       " 'data_diri',\n",
       " 'edit_list',\n",
       " 'exit',\n",
       " 'func_vartuple',\n",
       " 'function_name',\n",
       " 'get_ipython',\n",
       " 'hitung_luas',\n",
       " 'jumlahHewan',\n",
       " 'jumlahKelinci',\n",
       " 'jumlahKucing',\n",
       " 'luas',\n",
       " 'mod',\n",
       " 'my_function',\n",
       " 'mylist',\n",
       " 'printme',\n",
       " 'quit',\n",
       " 'require_function',\n",
       " 'sum',\n",
       " 'test',\n",
       " 'x']"
      ]
     },
     "execution_count": 55,
     "metadata": {},
     "output_type": "execute_result"
    }
   ],
   "source": [
    "dir()"
   ]
  },
  {
   "cell_type": "code",
   "execution_count": 58,
   "id": "ddd3469e",
   "metadata": {},
   "outputs": [
    {
     "data": {
      "text/plain": [
       "['Foo',\n",
       " '__builtins__',\n",
       " '__cached__',\n",
       " '__doc__',\n",
       " '__file__',\n",
       " '__loader__',\n",
       " '__name__',\n",
       " '__package__',\n",
       " '__spec__',\n",
       " 'a',\n",
       " 'foo',\n",
       " 's']"
      ]
     },
     "execution_count": 58,
     "metadata": {},
     "output_type": "execute_result"
    }
   ],
   "source": [
    "dir(mod)"
   ]
  },
  {
   "cell_type": "code",
   "execution_count": 60,
   "id": "78be9031",
   "metadata": {},
   "outputs": [
    {
     "data": {
      "text/plain": [
       "720"
      ]
     },
     "execution_count": 60,
     "metadata": {},
     "output_type": "execute_result"
    }
   ],
   "source": [
    "from fact import fact\n",
    "\n",
    "fact(6)"
   ]
  },
  {
   "cell_type": "code",
   "execution_count": 62,
   "id": "5eba2b61",
   "metadata": {},
   "outputs": [
    {
     "name": "stdout",
     "output_type": "stream",
     "text": [
      "[mod1] foo()\n"
     ]
    }
   ],
   "source": [
    "import package.mod1, package.mod2\n",
    "\n",
    "package.mod1.foo()"
   ]
  },
  {
   "cell_type": "code",
   "execution_count": 65,
   "id": "1a2bae12",
   "metadata": {},
   "outputs": [
    {
     "data": {
      "text/plain": [
       "<package.mod2.Bar at 0x7f31059b4bb0>"
      ]
     },
     "execution_count": 65,
     "metadata": {},
     "output_type": "execute_result"
    }
   ],
   "source": [
    "x = package.mod2.Bar()\n",
    "\n",
    "x"
   ]
  },
  {
   "cell_type": "code",
   "execution_count": 69,
   "id": "5e19032f",
   "metadata": {},
   "outputs": [
    {
     "name": "stdout",
     "output_type": "stream",
     "text": [
      "[mod1] foo()\n"
     ]
    }
   ],
   "source": [
    "from package.mod1 import foo\n",
    "\n",
    "foo()"
   ]
  },
  {
   "cell_type": "code",
   "execution_count": 71,
   "id": "d9525631",
   "metadata": {},
   "outputs": [
    {
     "data": {
      "text/plain": [
       "<package.mod2.Bar at 0x7f31059b4a00>"
      ]
     },
     "execution_count": 71,
     "metadata": {},
     "output_type": "execute_result"
    }
   ],
   "source": [
    "from package.mod2 import Bar as Qux\n",
    "x = Qux()\n",
    "x"
   ]
  },
  {
   "cell_type": "code",
   "execution_count": 75,
   "id": "0799b389",
   "metadata": {},
   "outputs": [
    {
     "data": {
      "text/plain": [
       "<module 'package' (namespace)>"
      ]
     },
     "execution_count": 75,
     "metadata": {},
     "output_type": "execute_result"
    }
   ],
   "source": [
    "import package\n",
    "package"
   ]
  },
  {
   "cell_type": "markdown",
   "id": "c07d39d1",
   "metadata": {},
   "source": [
    "# Request URL"
   ]
  },
  {
   "cell_type": "code",
   "execution_count": 76,
   "id": "fb8cf2e6",
   "metadata": {},
   "outputs": [
    {
     "name": "stdout",
     "output_type": "stream",
     "text": [
      "Response returned: 200, OK\n"
     ]
    }
   ],
   "source": [
    "import requests\n",
    "\n",
    "url = 'https://www.google.com'\n",
    "response = requests.get(url)\n",
    "print(f'Response returned: {response.status_code}, {response.reason}')\n",
    "# print(response.text)"
   ]
  }
 ],
 "metadata": {
  "kernelspec": {
   "display_name": "Python 3",
   "language": "python",
   "name": "python3"
  },
  "language_info": {
   "codemirror_mode": {
    "name": "ipython",
    "version": 3
   },
   "file_extension": ".py",
   "mimetype": "text/x-python",
   "name": "python",
   "nbconvert_exporter": "python",
   "pygments_lexer": "ipython3",
   "version": "3.8.8"
  }
 },
 "nbformat": 4,
 "nbformat_minor": 5
}
