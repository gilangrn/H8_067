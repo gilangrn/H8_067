{
 "cells": [
  {
   "cell_type": "markdown",
   "id": "cf457baa",
   "metadata": {},
   "source": [
    "# Variable"
   ]
  },
  {
   "cell_type": "code",
   "execution_count": 3,
   "id": "64b179e9",
   "metadata": {},
   "outputs": [
    {
     "name": "stdout",
     "output_type": "stream",
     "text": [
      "1\n"
     ]
    }
   ],
   "source": [
    "A = 1\n",
    "type(A)\n",
    "\n",
    "B = \"2,3\"\n",
    "type(B)\n",
    "\n",
    "A = '1'\n",
    "print(A)"
   ]
  },
  {
   "cell_type": "code",
   "execution_count": 4,
   "id": "f1402651",
   "metadata": {},
   "outputs": [
    {
     "data": {
      "text/plain": [
       "True"
      ]
     },
     "execution_count": 4,
     "metadata": {},
     "output_type": "execute_result"
    }
   ],
   "source": [
    "'2.2' == \"2.2\""
   ]
  },
  {
   "cell_type": "code",
   "execution_count": 7,
   "id": "f357ed59",
   "metadata": {},
   "outputs": [],
   "source": [
    "B = 20\n",
    "A = 97"
   ]
  },
  {
   "cell_type": "code",
   "execution_count": 8,
   "id": "d6f9ec6c",
   "metadata": {},
   "outputs": [
    {
     "data": {
      "text/plain": [
       "1940"
      ]
     },
     "execution_count": 8,
     "metadata": {},
     "output_type": "execute_result"
    }
   ],
   "source": [
    "A * B"
   ]
  },
  {
   "cell_type": "code",
   "execution_count": 9,
   "id": "cd3b08e4",
   "metadata": {},
   "outputs": [],
   "source": [
    "name = 'gilang romadhon nurohman'"
   ]
  },
  {
   "cell_type": "code",
   "execution_count": 11,
   "id": "0bb02666",
   "metadata": {},
   "outputs": [
    {
     "name": "stdout",
     "output_type": "stream",
     "text": [
      "Gilang romadhon nurohman\n"
     ]
    }
   ],
   "source": [
    "print(name.capitalize())"
   ]
  },
  {
   "cell_type": "code",
   "execution_count": 20,
   "id": "5acf5348",
   "metadata": {},
   "outputs": [
    {
     "data": {
      "text/plain": [
       "1000000000"
      ]
     },
     "execution_count": 20,
     "metadata": {},
     "output_type": "execute_result"
    }
   ],
   "source": [
    "10 ** 9"
   ]
  },
  {
   "cell_type": "code",
   "execution_count": 18,
   "id": "aef6fc5f",
   "metadata": {},
   "outputs": [
    {
     "name": "stdout",
     "output_type": "stream",
     "text": [
      "['pepaya', 'apel', 'jeruk', 'semangka']\n"
     ]
    }
   ],
   "source": [
    "buah = ['pepaya', 'apel', 'jeruk', 'semangka']\n",
    "print(buah)"
   ]
  },
  {
   "cell_type": "code",
   "execution_count": 21,
   "id": "61f12bc7",
   "metadata": {},
   "outputs": [
    {
     "name": "stdout",
     "output_type": "stream",
     "text": [
      "jeruk\n"
     ]
    }
   ],
   "source": [
    "print(buah[2])"
   ]
  },
  {
   "cell_type": "code",
   "execution_count": 23,
   "id": "9533904a",
   "metadata": {},
   "outputs": [
    {
     "data": {
      "text/plain": [
       "True"
      ]
     },
     "execution_count": 23,
     "metadata": {},
     "output_type": "execute_result"
    }
   ],
   "source": [
    "'apel' in buah"
   ]
  },
  {
   "cell_type": "code",
   "execution_count": 25,
   "id": "3609c074",
   "metadata": {},
   "outputs": [
    {
     "data": {
      "text/plain": [
       "'JERUK'"
      ]
     },
     "execution_count": 25,
     "metadata": {},
     "output_type": "execute_result"
    }
   ],
   "source": [
    "buah[2].upper()"
   ]
  },
  {
   "cell_type": "code",
   "execution_count": 27,
   "id": "0805b09d",
   "metadata": {},
   "outputs": [
    {
     "data": {
      "text/plain": [
       "'Gilang Romadhon Nurohman'"
      ]
     },
     "execution_count": 27,
     "metadata": {},
     "output_type": "execute_result"
    }
   ],
   "source": [
    "name.title()"
   ]
  },
  {
   "cell_type": "code",
   "execution_count": 29,
   "id": "6774ee00",
   "metadata": {},
   "outputs": [
    {
     "name": "stdout",
     "output_type": "stream",
     "text": [
      "4\n",
      "apel\n",
      "semangka\n"
     ]
    }
   ],
   "source": [
    "print(len(buah))\n",
    "print(min(buah))\n",
    "print(max(buah))"
   ]
  },
  {
   "cell_type": "code",
   "execution_count": 30,
   "id": "a96b331c",
   "metadata": {},
   "outputs": [],
   "source": [
    "kelas = {\n",
    "    'Nama': 'Python',\n",
    "    'Durasi': '3 Jam',\n",
    "    'Tanggal': '25/10/2021'\n",
    "}"
   ]
  },
  {
   "cell_type": "code",
   "execution_count": 32,
   "id": "237d669f",
   "metadata": {},
   "outputs": [
    {
     "name": "stdout",
     "output_type": "stream",
     "text": [
      "Python\n"
     ]
    }
   ],
   "source": [
    "print(kelas['Nama'])"
   ]
  },
  {
   "cell_type": "code",
   "execution_count": 33,
   "id": "160a7c1a",
   "metadata": {},
   "outputs": [],
   "source": [
    "resep = [\n",
    "    {\n",
    "        'nama': 'Telor Ceplok',\n",
    "        'bahan': 'Telor',\n",
    "        'cara': 'Ceplok'\n",
    "    },\n",
    "    {\n",
    "        'nama': 'Nasi Goreng',\n",
    "        'bahan': 'Nasi',\n",
    "        'cara': 'Goreng'\n",
    "    }\n",
    "]"
   ]
  },
  {
   "cell_type": "code",
   "execution_count": 35,
   "id": "c9f103bf",
   "metadata": {},
   "outputs": [
    {
     "data": {
      "text/plain": [
       "[{'nama': 'Telor Ceplok', 'bahan': 'Telor', 'cara': 'Ceplok'},\n",
       " {'nama': 'Nasi Goreng', 'bahan': 'Nasi', 'cara': 'Goreng'}]"
      ]
     },
     "execution_count": 35,
     "metadata": {},
     "output_type": "execute_result"
    }
   ],
   "source": [
    "resep"
   ]
  },
  {
   "cell_type": "code",
   "execution_count": 39,
   "id": "257763cc",
   "metadata": {
    "scrolled": true
   },
   "outputs": [
    {
     "data": {
      "text/plain": [
       "True"
      ]
     },
     "execution_count": 39,
     "metadata": {},
     "output_type": "execute_result"
    }
   ],
   "source": [
    "'Telor' in resep[0]['nama']"
   ]
  },
  {
   "cell_type": "code",
   "execution_count": 41,
   "id": "32324de1",
   "metadata": {},
   "outputs": [],
   "source": [
    "resep[0]['alat'] = 'Panci'"
   ]
  },
  {
   "cell_type": "raw",
   "id": "c449c527",
   "metadata": {},
   "source": []
  },
  {
   "cell_type": "code",
   "execution_count": 43,
   "id": "d4499fb5",
   "metadata": {},
   "outputs": [
    {
     "data": {
      "text/plain": [
       "[{'nama': 'Telor Ceplok', 'bahan': 'Telor', 'cara': 'Ceplok', 'alat': 'Panci'},\n",
       " {'nama': 'Nasi Goreng', 'bahan': 'Nasi', 'cara': 'Goreng'}]"
      ]
     },
     "execution_count": 43,
     "metadata": {},
     "output_type": "execute_result"
    }
   ],
   "source": [
    "resep"
   ]
  },
  {
   "cell_type": "code",
   "execution_count": 45,
   "id": "b1317cac",
   "metadata": {},
   "outputs": [],
   "source": [
    "resep[1]['alat'] = 'Panci'"
   ]
  },
  {
   "cell_type": "code",
   "execution_count": 47,
   "id": "7e829265",
   "metadata": {},
   "outputs": [
    {
     "data": {
      "text/plain": [
       "[{'nama': 'Telor Ceplok', 'bahan': 'Telor', 'cara': 'Ceplok', 'alat': 'Panci'},\n",
       " {'nama': 'Nasi Goreng', 'bahan': 'Nasi', 'cara': 'Goreng', 'alat': 'Panci'}]"
      ]
     },
     "execution_count": 47,
     "metadata": {},
     "output_type": "execute_result"
    }
   ],
   "source": [
    "resep"
   ]
  },
  {
   "cell_type": "code",
   "execution_count": 49,
   "id": "d810cc0a",
   "metadata": {},
   "outputs": [
    {
     "data": {
      "text/plain": [
       "{'nama': 'Nasi Goreng', 'bahan': 'Nasi', 'cara': 'Goreng', 'alat': 'Panci'}"
      ]
     },
     "execution_count": 49,
     "metadata": {},
     "output_type": "execute_result"
    }
   ],
   "source": [
    "resep[1]"
   ]
  },
  {
   "cell_type": "code",
   "execution_count": 53,
   "id": "e64614e0",
   "metadata": {},
   "outputs": [
    {
     "data": {
      "text/plain": [
       "'Telor'"
      ]
     },
     "execution_count": 53,
     "metadata": {},
     "output_type": "execute_result"
    }
   ],
   "source": [
    "resep[0]['bahan']"
   ]
  },
  {
   "cell_type": "code",
   "execution_count": 59,
   "id": "634abb68",
   "metadata": {},
   "outputs": [
    {
     "data": {
      "text/plain": [
       "dict_keys(['nama', 'bahan', 'cara', 'alat'])"
      ]
     },
     "execution_count": 59,
     "metadata": {},
     "output_type": "execute_result"
    }
   ],
   "source": [
    "resep[0].keys()"
   ]
  },
  {
   "cell_type": "code",
   "execution_count": 61,
   "id": "51f0406e",
   "metadata": {},
   "outputs": [
    {
     "data": {
      "text/plain": [
       "dict_items([('nama', 'Nasi Goreng'), ('bahan', 'Nasi'), ('cara', 'Goreng'), ('alat', 'Panci')])"
      ]
     },
     "execution_count": 61,
     "metadata": {},
     "output_type": "execute_result"
    }
   ],
   "source": [
    "resep[1].items()"
   ]
  },
  {
   "cell_type": "code",
   "execution_count": 65,
   "id": "0c4464aa",
   "metadata": {},
   "outputs": [
    {
     "data": {
      "text/plain": [
       "dict_values(['Telor Ceplok', 'Telor', 'Ceplok', 'Panci'])"
      ]
     },
     "execution_count": 65,
     "metadata": {},
     "output_type": "execute_result"
    }
   ],
   "source": [
    "resep[0].values()"
   ]
  },
  {
   "cell_type": "code",
   "execution_count": 67,
   "id": "7f69eed4",
   "metadata": {},
   "outputs": [],
   "source": [
    "par = \"Lorem Ipsum is simply dummy text \\\n",
    "of the printing and typesetting industry. \\\n",
    "Lorem Ipsum has been the industry's standard \\\n",
    "dummy text ever since the 1500s, when an unknown \\\n",
    "printer took a galley of type and scrambled it to make \\\n",
    "a type specimen book. It has survived not only five centuries, \\\n",
    "but also the leap into electronic typesetting, \\\n",
    "remaining essentially unchanged. It was popularised \\\n",
    "in the 1960s with the release of Letraset sheets \\\n",
    "containing Lorem Ipsum passages, and more recently \\\n",
    "with desktop publishing software like Aldus PageMaker \\\n",
    "including versions of Lorem Ipsum.\""
   ]
  },
  {
   "cell_type": "code",
   "execution_count": 69,
   "id": "4f2d531a",
   "metadata": {},
   "outputs": [
    {
     "name": "stdout",
     "output_type": "stream",
     "text": [
      "Lorem Ipsum is simply dummy text of the printing and typesetting industry. Lorem Ipsum has been the industry's standard dummy text ever since the 1500s, when an unknown printer took a galley of type and scrambled it to make a type specimen book. It has survived not only five centuries, but also the leap into electronic typesetting, remaining essentially unchanged. It was popularised in the 1960s with the release of Letraset sheets containing Lorem Ipsum passages, and more recently with desktop publishing software like Aldus PageMaker including versions of Lorem Ipsum.\n"
     ]
    }
   ],
   "source": [
    "print(par)"
   ]
  },
  {
   "cell_type": "markdown",
   "id": "dbf2981b",
   "metadata": {},
   "source": []
  }
 ],
 "metadata": {
  "kernelspec": {
   "display_name": "Python 3",
   "language": "python",
   "name": "python3"
  },
  "language_info": {
   "codemirror_mode": {
    "name": "ipython",
    "version": 3
   },
   "file_extension": ".py",
   "mimetype": "text/x-python",
   "name": "python",
   "nbconvert_exporter": "python",
   "pygments_lexer": "ipython3",
   "version": "3.8.8"
  }
 },
 "nbformat": 4,
 "nbformat_minor": 5
}
